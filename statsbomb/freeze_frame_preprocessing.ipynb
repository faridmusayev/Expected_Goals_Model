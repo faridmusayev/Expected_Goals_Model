{
 "cells": [
  {
   "cell_type": "code",
   "execution_count": null,
   "id": "e577ea9c",
   "metadata": {},
   "outputs": [],
   "source": [
    "import os\n",
    "import ast\n",
    "import pandas as pd\n",
    "import numpy as np\n",
    "import matplotlib.pyplot as plt\n",
    "from mplsoccer import Pitch, VerticalPitch\n",
    "import seaborn as sns"
   ]
  },
  {
   "cell_type": "code",
   "execution_count": null,
   "id": "8f7dc45a",
   "metadata": {},
   "outputs": [],
   "source": [
    "shots = pd.read_csv('data/shots.csv')\n",
    "shots.loc[:, 'freeze_frame'] = shots.loc[:, 'freeze_frame'].apply(ast.literal_eval)\n",
    "shots.head()"
   ]
  },
  {
   "cell_type": "code",
   "execution_count": null,
   "id": "dc84f674",
   "metadata": {},
   "outputs": [],
   "source": [
    "def ff_unpacking(players):\n",
    "    players = players[0]['freeze_frame']\n",
    "    for i in players:\n",
    "        if i['position']['name'] == 'Goalkeeper' and i['teammate'] == False:\n",
    "            gk_loc = i['location']\n",
    "            return gk_loc"
   ]
  },
  {
   "cell_type": "code",
   "execution_count": null,
   "id": "0ca112af",
   "metadata": {},
   "outputs": [],
   "source": [
    "shots.loc[:, 'gk_loc'] = shots.loc[:, 'freeze_frame'].apply(lambda x: ff_unpacking(x))"
   ]
  },
  {
   "cell_type": "code",
   "execution_count": null,
   "id": "1f354c73",
   "metadata": {},
   "outputs": [],
   "source": [
    "shots.head()"
   ]
  },
  {
   "cell_type": "code",
   "execution_count": null,
   "id": "1152c5f4",
   "metadata": {},
   "outputs": [],
   "source": [
    "shots.loc[shots.loc[:, 'gk_loc'].isnull(), 'gk_loc']"
   ]
  }
 ],
 "metadata": {
  "kernelspec": {
   "display_name": "Python 3 (ipykernel)",
   "language": "python",
   "name": "python3"
  },
  "language_info": {
   "codemirror_mode": {
    "name": "ipython",
    "version": 3
   },
   "file_extension": ".py",
   "mimetype": "text/x-python",
   "name": "python",
   "nbconvert_exporter": "python",
   "pygments_lexer": "ipython3",
   "version": "3.9.12"
  }
 },
 "nbformat": 4,
 "nbformat_minor": 5
}
