{
 "cells": [
  {
   "cell_type": "code",
   "execution_count": 111,
   "id": "c4ba369c",
   "metadata": {},
   "outputs": [],
   "source": [
    "import os\n",
    "import ast\n",
    "import numpy as np \n",
    "import pandas as pd"
   ]
  },
  {
   "cell_type": "code",
   "execution_count": 1,
   "id": "6c5f8fa9",
   "metadata": {},
   "outputs": [],
   "source": [
    "# import wyscout public match event data loader from socceraction library\n",
    "from socceraction.data.statsbomb import StatsBombLoader \n",
    "\n",
    "# remove credentials warning from statsbomb api due to public data access \n",
    "import warnings\n",
    "warnings.filterwarnings(\"ignore\", message=\"credentials were not supplied. open data access only\")\n",
    "\n",
    "\n",
    "# load public wyscout data\n",
    "stbm_data = StatsBombLoader()"
   ]
  },
  {
   "cell_type": "code",
   "execution_count": 12,
   "id": "564e08ba",
   "metadata": {
    "scrolled": false
   },
   "outputs": [
    {
     "data": {
      "text/html": [
       "<div>\n",
       "<style scoped>\n",
       "    .dataframe tbody tr th:only-of-type {\n",
       "        vertical-align: middle;\n",
       "    }\n",
       "\n",
       "    .dataframe tbody tr th {\n",
       "        vertical-align: top;\n",
       "    }\n",
       "\n",
       "    .dataframe thead th {\n",
       "        text-align: right;\n",
       "    }\n",
       "</style>\n",
       "<table border=\"1\" class=\"dataframe\">\n",
       "  <thead>\n",
       "    <tr style=\"text-align: right;\">\n",
       "      <th></th>\n",
       "      <th>season_id</th>\n",
       "      <th>competition_id</th>\n",
       "      <th>competition_name</th>\n",
       "      <th>country_name</th>\n",
       "      <th>competition_gender</th>\n",
       "      <th>season_name</th>\n",
       "    </tr>\n",
       "  </thead>\n",
       "  <tbody>\n",
       "    <tr>\n",
       "      <th>0</th>\n",
       "      <td>90</td>\n",
       "      <td>37</td>\n",
       "      <td>FA Women's Super League</td>\n",
       "      <td>England</td>\n",
       "      <td>female</td>\n",
       "      <td>2020/2021</td>\n",
       "    </tr>\n",
       "    <tr>\n",
       "      <th>1</th>\n",
       "      <td>42</td>\n",
       "      <td>37</td>\n",
       "      <td>FA Women's Super League</td>\n",
       "      <td>England</td>\n",
       "      <td>female</td>\n",
       "      <td>2019/2020</td>\n",
       "    </tr>\n",
       "    <tr>\n",
       "      <th>2</th>\n",
       "      <td>4</td>\n",
       "      <td>37</td>\n",
       "      <td>FA Women's Super League</td>\n",
       "      <td>England</td>\n",
       "      <td>female</td>\n",
       "      <td>2018/2019</td>\n",
       "    </tr>\n",
       "    <tr>\n",
       "      <th>3</th>\n",
       "      <td>3</td>\n",
       "      <td>49</td>\n",
       "      <td>NWSL</td>\n",
       "      <td>United States of America</td>\n",
       "      <td>female</td>\n",
       "      <td>2018</td>\n",
       "    </tr>\n",
       "    <tr>\n",
       "      <th>4</th>\n",
       "      <td>106</td>\n",
       "      <td>53</td>\n",
       "      <td>UEFA Women's Euro</td>\n",
       "      <td>Europe</td>\n",
       "      <td>female</td>\n",
       "      <td>2022</td>\n",
       "    </tr>\n",
       "    <tr>\n",
       "      <th>5</th>\n",
       "      <td>30</td>\n",
       "      <td>72</td>\n",
       "      <td>Women's World Cup</td>\n",
       "      <td>International</td>\n",
       "      <td>female</td>\n",
       "      <td>2019</td>\n",
       "    </tr>\n",
       "  </tbody>\n",
       "</table>\n",
       "</div>"
      ],
      "text/plain": [
       "   season_id  competition_id         competition_name  \\\n",
       "0         90              37  FA Women's Super League   \n",
       "1         42              37  FA Women's Super League   \n",
       "2          4              37  FA Women's Super League   \n",
       "3          3              49                     NWSL   \n",
       "4        106              53        UEFA Women's Euro   \n",
       "5         30              72        Women's World Cup   \n",
       "\n",
       "               country_name competition_gender season_name  \n",
       "0                   England             female   2020/2021  \n",
       "1                   England             female   2019/2020  \n",
       "2                   England             female   2018/2019  \n",
       "3  United States of America             female        2018  \n",
       "4                    Europe             female        2022  \n",
       "5             International             female        2019  "
      ]
     },
     "execution_count": 12,
     "metadata": {},
     "output_type": "execute_result"
    }
   ],
   "source": [
    "competitions = stbm_data.competitions()\n",
    "female_comps = competitions.loc[competitions['competition_gender'] == 'female', :].reset_index(drop = True)\n",
    "female_comps"
   ]
  },
  {
   "cell_type": "code",
   "execution_count": 47,
   "id": "4c89844f",
   "metadata": {},
   "outputs": [],
   "source": [
    "dir_names = ['FAWSL_2021', 'FAWSL_1920', 'FAWSL_1819', 'NWSL', 'EURO_2022', 'WC_2019']\n",
    "\n",
    "n_games = 0\n",
    "for i, j in female_comps.loc[:, ['season_id', 'competition_id']].iterrows():\n",
    "    # j[0] = season_id, j[1] = competition_id\n",
    "    games = stbm_data.games(j[1], j[0]).loc[:, 'game_id']\n",
    "    for k in games:\n",
    "        print(k)\n",
    "        \n",
    "        location, related_events, extra\n",
    "        \n",
    "        events = stbm_data.events(k)\n",
    "        events.to_csv(f'data/{dir_names[i]}/games/{k}.csv', index = False)"
   ]
  },
  {
   "cell_type": "code",
   "execution_count": 48,
   "id": "e1015914",
   "metadata": {},
   "outputs": [],
   "source": [
    "all_events = pd.DataFrame()\n",
    "for i in dir_names:\n",
    "    games = os.listdir(f'data/{i}/games')\n",
    "    for j in games:\n",
    "        df = pd.read_csv(f'data/{i}/games/{j}')\n",
    "        all_events = pd.concat([all_events, df])"
   ]
  },
  {
   "cell_type": "code",
   "execution_count": 68,
   "id": "d1b61626",
   "metadata": {},
   "outputs": [],
   "source": [
    "all_events = all_events.reset_index(drop = True)\n",
    "all_events.to_csv('data/all_events.csv', index = False)"
   ]
  },
  {
   "cell_type": "code",
   "execution_count": 69,
   "id": "ace9deb2",
   "metadata": {},
   "outputs": [
    {
     "data": {
      "text/plain": [
       "Index(['game_id', 'event_id', 'period_id', 'team_id', 'player_id', 'type_id',\n",
       "       'type_name', 'index', 'timestamp', 'minute', 'second', 'possession',\n",
       "       'possession_team_id', 'possession_team_name', 'play_pattern_id',\n",
       "       'play_pattern_name', 'team_name', 'duration', 'extra', 'related_events',\n",
       "       'player_name', 'position_id', 'position_name', 'location',\n",
       "       'under_pressure', 'counterpress'],\n",
       "      dtype='object')"
      ]
     },
     "execution_count": 69,
     "metadata": {},
     "output_type": "execute_result"
    }
   ],
   "source": [
    "all_events.columns"
   ]
  },
  {
   "cell_type": "code",
   "execution_count": 101,
   "id": "2a2daa2b",
   "metadata": {},
   "outputs": [],
   "source": [
    "shots = all_events.loc[all_events['type_name'] == 'Shot', ['type_name', 'play_pattern_name', 'position_name', \n",
    "                                                           'location', 'under_pressure', 'extra']].reset_index(drop = True)"
   ]
  },
  {
   "cell_type": "code",
   "execution_count": 227,
   "id": "b2484b92",
   "metadata": {},
   "outputs": [],
   "source": [
    "shots.loc[:, 'extra'] = shots.loc[:, 'extra'].apply(ast.literal_eval)"
   ]
  },
  {
   "cell_type": "code",
   "execution_count": 228,
   "id": "77a30ccf",
   "metadata": {
    "scrolled": true
   },
   "outputs": [
    {
     "data": {
      "text/html": [
       "<div>\n",
       "<style scoped>\n",
       "    .dataframe tbody tr th:only-of-type {\n",
       "        vertical-align: middle;\n",
       "    }\n",
       "\n",
       "    .dataframe tbody tr th {\n",
       "        vertical-align: top;\n",
       "    }\n",
       "\n",
       "    .dataframe thead th {\n",
       "        text-align: right;\n",
       "    }\n",
       "</style>\n",
       "<table border=\"1\" class=\"dataframe\">\n",
       "  <thead>\n",
       "    <tr style=\"text-align: right;\">\n",
       "      <th></th>\n",
       "      <th>type_name</th>\n",
       "      <th>play_pattern_name</th>\n",
       "      <th>position_name</th>\n",
       "      <th>location</th>\n",
       "      <th>under_pressure</th>\n",
       "      <th>extra</th>\n",
       "    </tr>\n",
       "  </thead>\n",
       "  <tbody>\n",
       "    <tr>\n",
       "      <th>0</th>\n",
       "      <td>Shot</td>\n",
       "      <td>Regular Play</td>\n",
       "      <td>Right Wing</td>\n",
       "      <td>[95.9, 58.9]</td>\n",
       "      <td>False</td>\n",
       "      <td>{'shot': {'statsbomb_xg': 0.013642391, 'end_lo...</td>\n",
       "    </tr>\n",
       "    <tr>\n",
       "      <th>1</th>\n",
       "      <td>Shot</td>\n",
       "      <td>From Free Kick</td>\n",
       "      <td>Center Forward</td>\n",
       "      <td>[106.1, 54.3]</td>\n",
       "      <td>False</td>\n",
       "      <td>{'shot': {'statsbomb_xg': 0.04084396, 'end_loc...</td>\n",
       "    </tr>\n",
       "    <tr>\n",
       "      <th>2</th>\n",
       "      <td>Shot</td>\n",
       "      <td>From Free Kick</td>\n",
       "      <td>Left Wing</td>\n",
       "      <td>[110.0, 28.2]</td>\n",
       "      <td>True</td>\n",
       "      <td>{'shot': {'statsbomb_xg': 0.13687119, 'end_loc...</td>\n",
       "    </tr>\n",
       "    <tr>\n",
       "      <th>3</th>\n",
       "      <td>Shot</td>\n",
       "      <td>From Throw In</td>\n",
       "      <td>Center Attacking Midfield</td>\n",
       "      <td>[113.2, 40.4]</td>\n",
       "      <td>False</td>\n",
       "      <td>{'shot': {'statsbomb_xg': 0.12462413, 'end_loc...</td>\n",
       "    </tr>\n",
       "    <tr>\n",
       "      <th>4</th>\n",
       "      <td>Shot</td>\n",
       "      <td>From Counter</td>\n",
       "      <td>Center Attacking Midfield</td>\n",
       "      <td>[95.2, 39.8]</td>\n",
       "      <td>False</td>\n",
       "      <td>{'shot': {'statsbomb_xg': 0.02380701, 'end_loc...</td>\n",
       "    </tr>\n",
       "  </tbody>\n",
       "</table>\n",
       "</div>"
      ],
      "text/plain": [
       "  type_name play_pattern_name              position_name       location  \\\n",
       "0      Shot      Regular Play                 Right Wing   [95.9, 58.9]   \n",
       "1      Shot    From Free Kick             Center Forward  [106.1, 54.3]   \n",
       "2      Shot    From Free Kick                  Left Wing  [110.0, 28.2]   \n",
       "3      Shot     From Throw In  Center Attacking Midfield  [113.2, 40.4]   \n",
       "4      Shot      From Counter  Center Attacking Midfield   [95.2, 39.8]   \n",
       "\n",
       "   under_pressure                                              extra  \n",
       "0           False  {'shot': {'statsbomb_xg': 0.013642391, 'end_lo...  \n",
       "1           False  {'shot': {'statsbomb_xg': 0.04084396, 'end_loc...  \n",
       "2            True  {'shot': {'statsbomb_xg': 0.13687119, 'end_loc...  \n",
       "3           False  {'shot': {'statsbomb_xg': 0.12462413, 'end_loc...  \n",
       "4           False  {'shot': {'statsbomb_xg': 0.02380701, 'end_loc...  "
      ]
     },
     "execution_count": 228,
     "metadata": {},
     "output_type": "execute_result"
    }
   ],
   "source": [
    "shots.head()"
   ]
  },
  {
   "cell_type": "code",
   "execution_count": 232,
   "id": "9ef5ee9e",
   "metadata": {},
   "outputs": [
    {
     "name": "stdout",
     "output_type": "stream",
     "text": [
      "dict_values([{'statsbomb_xg': 0.013642391, 'end_location': [116.7, 44.9, 1.2], 'key_pass_id': 'cbd54df9-6804-4fe1-96d5-4891d7d2f5ba', 'type': {'id': 87, 'name': 'Open Play'}, 'outcome': {'id': 100, 'name': 'Saved'}, 'deflected': True, 'technique': {'id': 93, 'name': 'Normal'}, 'body_part': {'id': 38, 'name': 'Left Foot'}, 'freeze_frame': [{'location': [119.6, 42.3], 'player': {'id': 42787, 'name': 'Mackenzie Arnold'}, 'position': {'id': 1, 'name': 'Goalkeeper'}, 'teammate': False}, {'location': [107.1, 36.2], 'player': {'id': 31550, 'name': 'Angela Addison'}, 'position': {'id': 21, 'name': 'Left Wing'}, 'teammate': True}, {'location': [107.5, 38.9], 'player': {'id': 34232, 'name': 'Grace Fisk'}, 'position': {'id': 2, 'name': 'Right Back'}, 'teammate': False}, {'location': [100.8, 57.1], 'player': {'id': 15724, 'name': 'Mayumi Pacheco'}, 'position': {'id': 6, 'name': 'Left Back'}, 'teammate': False}, {'location': [105.7, 61.0], 'player': {'id': 31556, 'name': 'Laura Vetterlein'}, 'position': {'id': 5, 'name': 'Left Center Back'}, 'teammate': False}, {'location': [101.2, 59.5], 'player': {'id': 24403, 'name': 'Katerina Svitková'}, 'position': {'id': 15, 'name': 'Left Center Midfield'}, 'teammate': False}, {'location': [101.3, 49.0], 'player': {'id': 22798, 'name': 'So-Hyun Cho'}, 'position': {'id': 13, 'name': 'Right Center Midfield'}, 'teammate': False}, {'location': [97.7, 40.7], 'player': {'id': 15421, 'name': 'Kenza Dali'}, 'position': {'id': 10, 'name': 'Center Defensive Midfield'}, 'teammate': False}, {'location': [95.8, 36.1], 'player': {'id': 18153, 'name': 'Alisha Lehmann'}, 'position': {'id': 17, 'name': 'Right Wing'}, 'teammate': False}, {'location': [108.0, 45.5], 'player': {'id': 18151, 'name': 'Gilly Louise Scarlett Flaherty'}, 'position': {'id': 3, 'name': 'Right Center Back'}, 'teammate': False}, {'location': [102.0, 73.4], 'player': {'id': 31551, 'name': 'Kit Graham'}, 'position': {'id': 19, 'name': 'Center Attacking Midfield'}, 'teammate': True}, {'location': [90.6, 28.2], 'player': {'id': 15572, 'name': 'Siri Worm'}, 'position': {'id': 6, 'name': 'Left Back'}, 'teammate': True}, {'location': [107.1, 41.2], 'player': {'id': 31702, 'name': 'Rianna Dean'}, 'position': {'id': 23, 'name': 'Center Forward'}, 'teammate': True}]}])\n",
      "dict_values([{'statsbomb_xg': 0.04084396, 'end_location': [120.0, 41.6, 4.2], 'type': {'id': 87, 'name': 'Open Play'}, 'outcome': {'id': 98, 'name': 'Off T'}, 'technique': {'id': 93, 'name': 'Normal'}, 'body_part': {'id': 40, 'name': 'Right Foot'}, 'freeze_frame': [{'location': [118.8, 43.2], 'player': {'id': 42787, 'name': 'Mackenzie Arnold'}, 'position': {'id': 1, 'name': 'Goalkeeper'}, 'teammate': False}, {'location': [102.4, 65.8], 'player': {'id': 15724, 'name': 'Mayumi Pacheco'}, 'position': {'id': 6, 'name': 'Left Back'}, 'teammate': False}, {'location': [102.4, 55.4], 'player': {'id': 8297, 'name': 'Adriana Kristina Leon'}, 'position': {'id': 21, 'name': 'Left Wing'}, 'teammate': False}, {'location': [104.3, 57.3], 'player': {'id': 22798, 'name': 'So-Hyun Cho'}, 'position': {'id': 13, 'name': 'Right Center Midfield'}, 'teammate': False}, {'location': [107.6, 51.7], 'player': {'id': 31556, 'name': 'Laura Vetterlein'}, 'position': {'id': 5, 'name': 'Left Center Back'}, 'teammate': False}, {'location': [107.8, 46.3], 'player': {'id': 18151, 'name': 'Gilly Louise Scarlett Flaherty'}, 'position': {'id': 3, 'name': 'Right Center Back'}, 'teammate': False}, {'location': [94.9, 34.2], 'player': {'id': 18153, 'name': 'Alisha Lehmann'}, 'position': {'id': 17, 'name': 'Right Wing'}, 'teammate': False}, {'location': [102.8, 41.5], 'player': {'id': 24403, 'name': 'Katerina Svitková'}, 'position': {'id': 15, 'name': 'Left Center Midfield'}, 'teammate': False}, {'location': [106.4, 38.0], 'player': {'id': 34232, 'name': 'Grace Fisk'}, 'position': {'id': 2, 'name': 'Right Back'}, 'teammate': False}, {'location': [84.8, 33.2], 'player': {'id': 15572, 'name': 'Siri Worm'}, 'position': {'id': 6, 'name': 'Left Back'}, 'teammate': True}, {'location': [102.7, 46.1], 'player': {'id': 15564, 'name': 'Lucy Quinn'}, 'position': {'id': 17, 'name': 'Right Wing'}, 'teammate': True}, {'location': [103.3, 37.2], 'player': {'id': 31550, 'name': 'Angela Addison'}, 'position': {'id': 21, 'name': 'Left Wing'}, 'teammate': True}, {'location': [101.1, 60.5], 'player': {'id': 18145, 'name': 'Ria Percival'}, 'position': {'id': 9, 'name': 'Right Defensive Midfield'}, 'teammate': True}, {'location': [106.9, 61.9], 'player': {'id': 4848, 'name': 'Ashleigh Neville'}, 'position': {'id': 2, 'name': 'Right Back'}, 'teammate': True}]}])\n",
      "dict_values([{'statsbomb_xg': 0.13687119, 'end_location': [117.6, 36.7, 0.4], 'key_pass_id': '31b4e348-7b83-4e8f-823a-def841091382', 'body_part': {'id': 38, 'name': 'Left Foot'}, 'type': {'id': 87, 'name': 'Open Play'}, 'outcome': {'id': 100, 'name': 'Saved'}, 'technique': {'id': 93, 'name': 'Normal'}, 'freeze_frame': [{'location': [111.3, 39.8], 'player': {'id': 31556, 'name': 'Laura Vetterlein'}, 'position': {'id': 5, 'name': 'Left Center Back'}, 'teammate': False}, {'location': [111.6, 34.5], 'player': {'id': 18151, 'name': 'Gilly Louise Scarlett Flaherty'}, 'position': {'id': 3, 'name': 'Right Center Back'}, 'teammate': False}, {'location': [109.5, 29.6], 'player': {'id': 22798, 'name': 'So-Hyun Cho'}, 'position': {'id': 13, 'name': 'Right Center Midfield'}, 'teammate': False}, {'location': [107.9, 27.6], 'player': {'id': 34232, 'name': 'Grace Fisk'}, 'position': {'id': 2, 'name': 'Right Back'}, 'teammate': False}, {'location': [106.1, 25.9], 'player': {'id': 18153, 'name': 'Alisha Lehmann'}, 'position': {'id': 17, 'name': 'Right Wing'}, 'teammate': False}, {'location': [103.8, 14.6], 'player': {'id': 15572, 'name': 'Siri Worm'}, 'position': {'id': 6, 'name': 'Left Back'}, 'teammate': True}, {'location': [118.2, 36.8], 'player': {'id': 42787, 'name': 'Mackenzie Arnold'}, 'position': {'id': 1, 'name': 'Goalkeeper'}, 'teammate': False}, {'location': [109.7, 38.5], 'player': {'id': 31551, 'name': 'Kit Graham'}, 'position': {'id': 19, 'name': 'Center Attacking Midfield'}, 'teammate': True}]}])\n",
      "dict_values([{'statsbomb_xg': 0.12462413, 'end_location': [120.0, 37.9, 2.9], 'key_pass_id': '109f159b-f104-4312-af52-dad2567d9115', 'body_part': {'id': 37, 'name': 'Head'}, 'type': {'id': 87, 'name': 'Open Play'}, 'outcome': {'id': 99, 'name': 'Post'}, 'technique': {'id': 93, 'name': 'Normal'}, 'freeze_frame': [{'location': [105.8, 46.6], 'player': {'id': 8297, 'name': 'Adriana Kristina Leon'}, 'position': {'id': 21, 'name': 'Left Wing'}, 'teammate': False}, {'location': [114.7, 39.0], 'player': {'id': 15724, 'name': 'Mayumi Pacheco'}, 'position': {'id': 6, 'name': 'Left Back'}, 'teammate': False}, {'location': [113.7, 43.7], 'player': {'id': 31556, 'name': 'Laura Vetterlein'}, 'position': {'id': 5, 'name': 'Left Center Back'}, 'teammate': False}, {'location': [114.6, 40.8], 'player': {'id': 24403, 'name': 'Katerina Svitková'}, 'position': {'id': 15, 'name': 'Left Center Midfield'}, 'teammate': False}, {'location': [105.9, 29.6], 'player': {'id': 15421, 'name': 'Kenza Dali'}, 'position': {'id': 10, 'name': 'Center Defensive Midfield'}, 'teammate': False}, {'location': [115.6, 24.5], 'player': {'id': 34232, 'name': 'Grace Fisk'}, 'position': {'id': 2, 'name': 'Right Back'}, 'teammate': False}, {'location': [114.7, 33.0], 'player': {'id': 18151, 'name': 'Gilly Louise Scarlett Flaherty'}, 'position': {'id': 3, 'name': 'Right Center Back'}, 'teammate': False}, {'location': [119.3, 39.0], 'player': {'id': 42787, 'name': 'Mackenzie Arnold'}, 'position': {'id': 1, 'name': 'Goalkeeper'}, 'teammate': False}, {'location': [106.4, 24.8], 'player': {'id': 22798, 'name': 'So-Hyun Cho'}, 'position': {'id': 13, 'name': 'Right Center Midfield'}, 'teammate': False}, {'location': [109.5, 53.3], 'player': {'id': 4848, 'name': 'Ashleigh Neville'}, 'position': {'id': 2, 'name': 'Right Back'}, 'teammate': True}, {'location': [111.2, 47.5], 'player': {'id': 15564, 'name': 'Lucy Quinn'}, 'position': {'id': 17, 'name': 'Right Wing'}, 'teammate': True}, {'location': [113.5, 36.4], 'player': {'id': 31702, 'name': 'Rianna Dean'}, 'position': {'id': 23, 'name': 'Center Forward'}, 'teammate': True}, {'location': [95.6, 25.2], 'player': {'id': 4865, 'name': 'Josie Green'}, 'position': {'id': 11, 'name': 'Left Defensive Midfield'}, 'teammate': True}, {'location': [101.0, 15.7], 'player': {'id': 31550, 'name': 'Angela Addison'}, 'position': {'id': 21, 'name': 'Left Wing'}, 'teammate': True}]}])\n",
      "dict_values([{'statsbomb_xg': 0.02380701, 'end_location': [120.0, 37.3, 2.9], 'key_pass_id': 'f2dc0c44-997a-4667-8455-4543b16784ee', 'body_part': {'id': 38, 'name': 'Left Foot'}, 'type': {'id': 87, 'name': 'Open Play'}, 'outcome': {'id': 99, 'name': 'Post'}, 'technique': {'id': 93, 'name': 'Normal'}, 'freeze_frame': [{'location': [97.8, 49.4], 'player': {'id': 15724, 'name': 'Mayumi Pacheco'}, 'position': {'id': 6, 'name': 'Left Back'}, 'teammate': False}, {'location': [95.0, 44.2], 'player': {'id': 15421, 'name': 'Kenza Dali'}, 'position': {'id': 10, 'name': 'Center Defensive Midfield'}, 'teammate': False}, {'location': [93.3, 40.2], 'player': {'id': 24403, 'name': 'Katerina Svitková'}, 'position': {'id': 15, 'name': 'Left Center Midfield'}, 'teammate': False}, {'location': [97.0, 41.9], 'player': {'id': 31556, 'name': 'Laura Vetterlein'}, 'position': {'id': 5, 'name': 'Left Center Back'}, 'teammate': False}, {'location': [98.2, 40.1], 'player': {'id': 18151, 'name': 'Gilly Louise Scarlett Flaherty'}, 'position': {'id': 3, 'name': 'Right Center Back'}, 'teammate': False}, {'location': [118.5, 40.0], 'player': {'id': 42787, 'name': 'Mackenzie Arnold'}, 'position': {'id': 1, 'name': 'Goalkeeper'}, 'teammate': False}, {'location': [97.7, 36.2], 'player': {'id': 34232, 'name': 'Grace Fisk'}, 'position': {'id': 2, 'name': 'Right Back'}, 'teammate': False}, {'location': [85.6, 23.7], 'player': {'id': 15572, 'name': 'Siri Worm'}, 'position': {'id': 6, 'name': 'Left Back'}, 'teammate': True}, {'location': [99.1, 27.2], 'player': {'id': 31550, 'name': 'Angela Addison'}, 'position': {'id': 21, 'name': 'Left Wing'}, 'teammate': True}]}])\n",
      "dict_values([{'statsbomb_xg': 0.19531094, 'end_location': [117.8, 40.9, 1.7], 'key_pass_id': 'b2f09744-e875-43a3-97d1-08ba53fa52b0', 'technique': {'id': 93, 'name': 'Normal'}, 'body_part': {'id': 40, 'name': 'Right Foot'}, 'type': {'id': 87, 'name': 'Open Play'}, 'outcome': {'id': 100, 'name': 'Saved'}, 'first_time': True, 'freeze_frame': [{'location': [109.5, 50.4], 'player': {'id': 15572, 'name': 'Siri Worm'}, 'position': {'id': 6, 'name': 'Left Back'}, 'teammate': False}, {'location': [110.8, 48.3], 'player': {'id': 15569, 'name': 'Kerys Harrop'}, 'position': {'id': 5, 'name': 'Left Center Back'}, 'teammate': False}, {'location': [111.3, 39.8], 'player': {'id': 4848, 'name': 'Ashleigh Neville'}, 'position': {'id': 2, 'name': 'Right Back'}, 'teammate': False}, {'location': [92.0, 58.5], 'player': {'id': 31551, 'name': 'Kit Graham'}, 'position': {'id': 19, 'name': 'Center Attacking Midfield'}, 'teammate': False}, {'location': [104.0, 42.5], 'player': {'id': 4865, 'name': 'Josie Green'}, 'position': {'id': 11, 'name': 'Left Defensive Midfield'}, 'teammate': False}, {'location': [118.7, 40.9], 'player': {'id': 18158, 'name': 'Rebecca Leigh Spencer'}, 'position': {'id': 1, 'name': 'Goalkeeper'}, 'teammate': False}, {'location': [119.0, 38.1], 'player': {'id': 31552, 'name': 'Hannah Godfrey'}, 'position': {'id': 3, 'name': 'Right Center Back'}, 'teammate': False}, {'location': [106.0, 57.1], 'player': {'id': 34232, 'name': 'Grace Fisk'}, 'position': {'id': 2, 'name': 'Right Back'}, 'teammate': True}, {'location': [110.1, 39.3], 'player': {'id': 8297, 'name': 'Adriana Kristina Leon'}, 'position': {'id': 21, 'name': 'Left Wing'}, 'teammate': True}, {'location': [106.9, 51.3], 'player': {'id': 18146, 'name': 'Leanne Kiernan'}, 'position': {'id': 23, 'name': 'Center Forward'}, 'teammate': True}, {'location': [98.6, 53.4], 'player': {'id': 18153, 'name': 'Alisha Lehmann'}, 'position': {'id': 17, 'name': 'Right Wing'}, 'teammate': True}]}])\n",
      "dict_values([{'statsbomb_xg': 0.016685791, 'end_location': [120.0, 31.2, 0.3], 'key_pass_id': '305a1e4e-5aa8-4e61-8974-e9d53e3fb183', 'body_part': {'id': 37, 'name': 'Head'}, 'type': {'id': 87, 'name': 'Open Play'}, 'outcome': {'id': 98, 'name': 'Off T'}, 'technique': {'id': 93, 'name': 'Normal'}, 'freeze_frame': [{'location': [104.7, 49.5], 'player': {'id': 18146, 'name': 'Leanne Kiernan'}, 'position': {'id': 23, 'name': 'Center Forward'}, 'teammate': True}, {'location': [106.6, 35.5], 'player': {'id': 8297, 'name': 'Adriana Kristina Leon'}, 'position': {'id': 21, 'name': 'Left Wing'}, 'teammate': True}, {'location': [98.2, 71.8], 'player': {'id': 34232, 'name': 'Grace Fisk'}, 'position': {'id': 2, 'name': 'Right Back'}, 'teammate': True}, {'location': [95.1, 54.7], 'player': {'id': 15421, 'name': 'Kenza Dali'}, 'position': {'id': 10, 'name': 'Center Defensive Midfield'}, 'teammate': True}, {'location': [85.5, 55.6], 'player': {'id': 22798, 'name': 'So-Hyun Cho'}, 'position': {'id': 13, 'name': 'Right Center Midfield'}, 'teammate': True}, {'location': [108.0, 45.7], 'player': {'id': 31552, 'name': 'Hannah Godfrey'}, 'position': {'id': 3, 'name': 'Right Center Back'}, 'teammate': False}, {'location': [99.0, 58.7], 'player': {'id': 31551, 'name': 'Kit Graham'}, 'position': {'id': 19, 'name': 'Center Attacking Midfield'}, 'teammate': False}, {'location': [104.5, 51.3], 'player': {'id': 18145, 'name': 'Ria Percival'}, 'position': {'id': 9, 'name': 'Right Defensive Midfield'}, 'teammate': False}, {'location': [94.8, 56.0], 'player': {'id': 4865, 'name': 'Josie Green'}, 'position': {'id': 11, 'name': 'Left Defensive Midfield'}, 'teammate': False}, {'location': [106.7, 42.4], 'player': {'id': 4848, 'name': 'Ashleigh Neville'}, 'position': {'id': 2, 'name': 'Right Back'}, 'teammate': False}, {'location': [103.2, 65.6], 'player': {'id': 15572, 'name': 'Siri Worm'}, 'position': {'id': 6, 'name': 'Left Back'}, 'teammate': False}, {'location': [97.7, 67.1], 'player': {'id': 31550, 'name': 'Angela Addison'}, 'position': {'id': 21, 'name': 'Left Wing'}, 'teammate': False}, {'location': [118.5, 41.0], 'player': {'id': 18158, 'name': 'Rebecca Leigh Spencer'}, 'position': {'id': 1, 'name': 'Goalkeeper'}, 'teammate': False}]}])\n",
      "dict_values([{'statsbomb_xg': 0.029686276, 'end_location': [120.0, 34.9, 1.1], 'body_part': {'id': 40, 'name': 'Right Foot'}, 'type': {'id': 62, 'name': 'Free Kick'}, 'outcome': {'id': 98, 'name': 'Off T'}, 'technique': {'id': 93, 'name': 'Normal'}, 'freeze_frame': [{'location': [94.7, 40.0], 'player': {'id': 22798, 'name': 'So-Hyun Cho'}, 'position': {'id': 13, 'name': 'Right Center Midfield'}, 'teammate': True}, {'location': [104.1, 27.9], 'player': {'id': 18146, 'name': 'Leanne Kiernan'}, 'position': {'id': 23, 'name': 'Center Forward'}, 'teammate': True}, {'location': [102.8, 32.1], 'player': {'id': 8297, 'name': 'Adriana Kristina Leon'}, 'position': {'id': 21, 'name': 'Left Wing'}, 'teammate': True}, {'location': [105.2, 19.7], 'player': {'id': 15724, 'name': 'Mayumi Pacheco'}, 'position': {'id': 6, 'name': 'Left Back'}, 'teammate': True}, {'location': [106.4, 47.0], 'player': {'id': 34232, 'name': 'Grace Fisk'}, 'position': {'id': 2, 'name': 'Right Back'}, 'teammate': True}, {'location': [104.9, 46.3], 'player': {'id': 24403, 'name': 'Katerina Svitková'}, 'position': {'id': 15, 'name': 'Left Center Midfield'}, 'teammate': True}, {'location': [103.0, 50.2], 'player': {'id': 31556, 'name': 'Laura Vetterlein'}, 'position': {'id': 5, 'name': 'Left Center Back'}, 'teammate': True}, {'location': [105.5, 24.9], 'player': {'id': 4865, 'name': 'Josie Green'}, 'position': {'id': 11, 'name': 'Left Defensive Midfield'}, 'teammate': False}, {'location': [105.2, 28.0], 'player': {'id': 18145, 'name': 'Ria Percival'}, 'position': {'id': 9, 'name': 'Right Defensive Midfield'}, 'teammate': False}, {'location': [105.5, 26.9], 'player': {'id': 31552, 'name': 'Hannah Godfrey'}, 'position': {'id': 3, 'name': 'Right Center Back'}, 'teammate': False}, {'location': [104.8, 29.2], 'player': {'id': 31702, 'name': 'Rianna Dean'}, 'position': {'id': 23, 'name': 'Center Forward'}, 'teammate': False}, {'location': [103.6, 31.4], 'player': {'id': 15564, 'name': 'Lucy Quinn'}, 'position': {'id': 17, 'name': 'Right Wing'}, 'teammate': False}, {'location': [106.8, 42.0], 'player': {'id': 15569, 'name': 'Kerys Harrop'}, 'position': {'id': 5, 'name': 'Left Center Back'}, 'teammate': False}, {'location': [104.3, 50.7], 'player': {'id': 31550, 'name': 'Angela Addison'}, 'position': {'id': 21, 'name': 'Left Wing'}, 'teammate': False}, {'location': [107.0, 47.6], 'player': {'id': 4848, 'name': 'Ashleigh Neville'}, 'position': {'id': 2, 'name': 'Right Back'}, 'teammate': False}, {'location': [119.1, 37.8], 'player': {'id': 18158, 'name': 'Rebecca Leigh Spencer'}, 'position': {'id': 1, 'name': 'Goalkeeper'}, 'teammate': False}, {'location': [106.8, 53.7], 'player': {'id': 18153, 'name': 'Alisha Lehmann'}, 'position': {'id': 17, 'name': 'Right Wing'}, 'teammate': True}, {'location': [107.0, 49.4], 'player': {'id': 31551, 'name': 'Kit Graham'}, 'position': {'id': 19, 'name': 'Center Attacking Midfield'}, 'teammate': False}, {'location': [106.0, 52.9], 'player': {'id': 15572, 'name': 'Siri Worm'}, 'position': {'id': 6, 'name': 'Left Back'}, 'teammate': False}]}])\n",
      "dict_values([{'statsbomb_xg': 0.01496874, 'end_location': [120.0, 46.7, 0.5], 'key_pass_id': '6dfbe708-2b5c-477f-8104-f2c18c577ea6', 'technique': {'id': 93, 'name': 'Normal'}, 'aerial_won': True, 'body_part': {'id': 37, 'name': 'Head'}, 'type': {'id': 87, 'name': 'Open Play'}, 'outcome': {'id': 98, 'name': 'Off T'}, 'freeze_frame': [{'location': [105.0, 43.4], 'player': {'id': 18153, 'name': 'Alisha Lehmann'}, 'position': {'id': 17, 'name': 'Right Wing'}, 'teammate': True}, {'location': [102.1, 38.0], 'player': {'id': 24403, 'name': 'Katerina Svitková'}, 'position': {'id': 15, 'name': 'Left Center Midfield'}, 'teammate': True}, {'location': [109.1, 46.2], 'player': {'id': 15572, 'name': 'Siri Worm'}, 'position': {'id': 6, 'name': 'Left Back'}, 'teammate': False}, {'location': [108.2, 45.4], 'player': {'id': 15569, 'name': 'Kerys Harrop'}, 'position': {'id': 5, 'name': 'Left Center Back'}, 'teammate': False}, {'location': [106.4, 38.5], 'player': {'id': 31552, 'name': 'Hannah Godfrey'}, 'position': {'id': 3, 'name': 'Right Center Back'}, 'teammate': False}, {'location': [89.4, 58.8], 'player': {'id': 31550, 'name': 'Angela Addison'}, 'position': {'id': 21, 'name': 'Left Wing'}, 'teammate': False}, {'location': [119.0, 40.6], 'player': {'id': 18158, 'name': 'Rebecca Leigh Spencer'}, 'position': {'id': 1, 'name': 'Goalkeeper'}, 'teammate': False}]}])\n",
      "dict_values([{'one_on_one': True, 'statsbomb_xg': 0.1920874, 'end_location': [115.4, 41.9, 1.6], 'body_part': {'id': 40, 'name': 'Right Foot'}, 'type': {'id': 87, 'name': 'Open Play'}, 'outcome': {'id': 100, 'name': 'Saved'}, 'technique': {'id': 93, 'name': 'Normal'}, 'freeze_frame': [{'location': [97.3, 47.9], 'player': {'id': 22798, 'name': 'So-Hyun Cho'}, 'position': {'id': 13, 'name': 'Right Center Midfield'}, 'teammate': False}, {'location': [104.5, 38.6], 'player': {'id': 34232, 'name': 'Grace Fisk'}, 'position': {'id': 2, 'name': 'Right Back'}, 'teammate': False}, {'location': [105.7, 45.4], 'player': {'id': 18151, 'name': 'Gilly Louise Scarlett Flaherty'}, 'position': {'id': 3, 'name': 'Right Center Back'}, 'teammate': False}, {'location': [102.9, 47.0], 'player': {'id': 31556, 'name': 'Laura Vetterlein'}, 'position': {'id': 5, 'name': 'Left Center Back'}, 'teammate': False}, {'location': [116.0, 42.7], 'player': {'id': 42787, 'name': 'Mackenzie Arnold'}, 'position': {'id': 1, 'name': 'Goalkeeper'}, 'teammate': False}]}])\n"
     ]
    }
   ],
   "source": [
    "for i in shots.loc[:, 'extra'][:10]:\n",
    "    print(i.values())"
   ]
  },
  {
   "cell_type": "code",
   "execution_count": 247,
   "id": "5583cf51",
   "metadata": {},
   "outputs": [
    {
     "data": {
      "text/plain": [
       "{'shot': {'statsbomb_xg': 0.013642391,\n",
       "  'end_location': [116.7, 44.9, 1.2],\n",
       "  'key_pass_id': 'cbd54df9-6804-4fe1-96d5-4891d7d2f5ba',\n",
       "  'type': {'id': 87, 'name': 'Open Play'},\n",
       "  'outcome': {'id': 100, 'name': 'Saved'},\n",
       "  'deflected': True,\n",
       "  'technique': {'id': 93, 'name': 'Normal'},\n",
       "  'body_part': {'id': 38, 'name': 'Left Foot'},\n",
       "  'freeze_frame': [{'location': [119.6, 42.3],\n",
       "    'player': {'id': 42787, 'name': 'Mackenzie Arnold'},\n",
       "    'position': {'id': 1, 'name': 'Goalkeeper'},\n",
       "    'teammate': False},\n",
       "   {'location': [107.1, 36.2],\n",
       "    'player': {'id': 31550, 'name': 'Angela Addison'},\n",
       "    'position': {'id': 21, 'name': 'Left Wing'},\n",
       "    'teammate': True},\n",
       "   {'location': [107.5, 38.9],\n",
       "    'player': {'id': 34232, 'name': 'Grace Fisk'},\n",
       "    'position': {'id': 2, 'name': 'Right Back'},\n",
       "    'teammate': False},\n",
       "   {'location': [100.8, 57.1],\n",
       "    'player': {'id': 15724, 'name': 'Mayumi Pacheco'},\n",
       "    'position': {'id': 6, 'name': 'Left Back'},\n",
       "    'teammate': False},\n",
       "   {'location': [105.7, 61.0],\n",
       "    'player': {'id': 31556, 'name': 'Laura Vetterlein'},\n",
       "    'position': {'id': 5, 'name': 'Left Center Back'},\n",
       "    'teammate': False},\n",
       "   {'location': [101.2, 59.5],\n",
       "    'player': {'id': 24403, 'name': 'Katerina Svitková'},\n",
       "    'position': {'id': 15, 'name': 'Left Center Midfield'},\n",
       "    'teammate': False},\n",
       "   {'location': [101.3, 49.0],\n",
       "    'player': {'id': 22798, 'name': 'So-Hyun Cho'},\n",
       "    'position': {'id': 13, 'name': 'Right Center Midfield'},\n",
       "    'teammate': False},\n",
       "   {'location': [97.7, 40.7],\n",
       "    'player': {'id': 15421, 'name': 'Kenza Dali'},\n",
       "    'position': {'id': 10, 'name': 'Center Defensive Midfield'},\n",
       "    'teammate': False},\n",
       "   {'location': [95.8, 36.1],\n",
       "    'player': {'id': 18153, 'name': 'Alisha Lehmann'},\n",
       "    'position': {'id': 17, 'name': 'Right Wing'},\n",
       "    'teammate': False},\n",
       "   {'location': [108.0, 45.5],\n",
       "    'player': {'id': 18151, 'name': 'Gilly Louise Scarlett Flaherty'},\n",
       "    'position': {'id': 3, 'name': 'Right Center Back'},\n",
       "    'teammate': False},\n",
       "   {'location': [102.0, 73.4],\n",
       "    'player': {'id': 31551, 'name': 'Kit Graham'},\n",
       "    'position': {'id': 19, 'name': 'Center Attacking Midfield'},\n",
       "    'teammate': True},\n",
       "   {'location': [90.6, 28.2],\n",
       "    'player': {'id': 15572, 'name': 'Siri Worm'},\n",
       "    'position': {'id': 6, 'name': 'Left Back'},\n",
       "    'teammate': True},\n",
       "   {'location': [107.1, 41.2],\n",
       "    'player': {'id': 31702, 'name': 'Rianna Dean'},\n",
       "    'position': {'id': 23, 'name': 'Center Forward'},\n",
       "    'teammate': True}]}}"
      ]
     },
     "execution_count": 247,
     "metadata": {},
     "output_type": "execute_result"
    }
   ],
   "source": [
    "item"
   ]
  },
  {
   "cell_type": "code",
   "execution_count": 297,
   "id": "7faffa87",
   "metadata": {},
   "outputs": [],
   "source": [
    "shotsframe = shots.loc[:, 'extra'].reset_index(drop = True)"
   ]
  },
  {
   "cell_type": "code",
   "execution_count": 308,
   "id": "3097e051",
   "metadata": {
    "scrolled": true
   },
   "outputs": [],
   "source": [
    "keys = ['follows_dribble', 'first_time', 'open_goal', 'technique', 'body_part', 'type']\n",
    "#features = {'follows_dribble':[], 'first_time':[], 'open_goal':[], 'technique':[], 'body_part':[], 'type':[]}\n",
    "features = pd.DataFrame(np.nan, columns = keys, index = range(shots.shape[0]))\n",
    "for i, j in shotsframe.iteritems():\n",
    "    for k in list(j['shot'].keys()):\n",
    "        if k in ['type', 'technique', 'body_part']:\n",
    "            features.loc[i, k] = j['shot'][k]['name']\n",
    "        elif k in keys:\n",
    "            #features[k].append(j['shot'][k])\n",
    "            features.loc[i, k] = j['shot'][k]"
   ]
  },
  {
   "cell_type": "code",
   "execution_count": 311,
   "id": "89d49e17",
   "metadata": {},
   "outputs": [
    {
     "data": {
      "text/html": [
       "<div>\n",
       "<style scoped>\n",
       "    .dataframe tbody tr th:only-of-type {\n",
       "        vertical-align: middle;\n",
       "    }\n",
       "\n",
       "    .dataframe tbody tr th {\n",
       "        vertical-align: top;\n",
       "    }\n",
       "\n",
       "    .dataframe thead th {\n",
       "        text-align: right;\n",
       "    }\n",
       "</style>\n",
       "<table border=\"1\" class=\"dataframe\">\n",
       "  <thead>\n",
       "    <tr style=\"text-align: right;\">\n",
       "      <th></th>\n",
       "      <th>follows_dribble</th>\n",
       "      <th>first_time</th>\n",
       "      <th>open_goal</th>\n",
       "      <th>technique</th>\n",
       "      <th>body_part</th>\n",
       "      <th>type</th>\n",
       "    </tr>\n",
       "  </thead>\n",
       "  <tbody>\n",
       "    <tr>\n",
       "      <th>0</th>\n",
       "      <td>NaN</td>\n",
       "      <td>NaN</td>\n",
       "      <td>NaN</td>\n",
       "      <td>Normal</td>\n",
       "      <td>Left Foot</td>\n",
       "      <td>Open Play</td>\n",
       "    </tr>\n",
       "    <tr>\n",
       "      <th>1</th>\n",
       "      <td>NaN</td>\n",
       "      <td>NaN</td>\n",
       "      <td>NaN</td>\n",
       "      <td>Normal</td>\n",
       "      <td>Right Foot</td>\n",
       "      <td>Open Play</td>\n",
       "    </tr>\n",
       "    <tr>\n",
       "      <th>2</th>\n",
       "      <td>NaN</td>\n",
       "      <td>NaN</td>\n",
       "      <td>NaN</td>\n",
       "      <td>Normal</td>\n",
       "      <td>Left Foot</td>\n",
       "      <td>Open Play</td>\n",
       "    </tr>\n",
       "    <tr>\n",
       "      <th>3</th>\n",
       "      <td>NaN</td>\n",
       "      <td>NaN</td>\n",
       "      <td>NaN</td>\n",
       "      <td>Normal</td>\n",
       "      <td>Head</td>\n",
       "      <td>Open Play</td>\n",
       "    </tr>\n",
       "    <tr>\n",
       "      <th>4</th>\n",
       "      <td>NaN</td>\n",
       "      <td>NaN</td>\n",
       "      <td>NaN</td>\n",
       "      <td>Normal</td>\n",
       "      <td>Left Foot</td>\n",
       "      <td>Open Play</td>\n",
       "    </tr>\n",
       "  </tbody>\n",
       "</table>\n",
       "</div>"
      ],
      "text/plain": [
       "  follows_dribble first_time open_goal technique   body_part       type\n",
       "0             NaN        NaN       NaN    Normal   Left Foot  Open Play\n",
       "1             NaN        NaN       NaN    Normal  Right Foot  Open Play\n",
       "2             NaN        NaN       NaN    Normal   Left Foot  Open Play\n",
       "3             NaN        NaN       NaN    Normal        Head  Open Play\n",
       "4             NaN        NaN       NaN    Normal   Left Foot  Open Play"
      ]
     },
     "execution_count": 311,
     "metadata": {},
     "output_type": "execute_result"
    }
   ],
   "source": [
    "features.head()"
   ]
  }
 ],
 "metadata": {
  "kernelspec": {
   "display_name": "Python 3 (ipykernel)",
   "language": "python",
   "name": "python3"
  },
  "language_info": {
   "codemirror_mode": {
    "name": "ipython",
    "version": 3
   },
   "file_extension": ".py",
   "mimetype": "text/x-python",
   "name": "python",
   "nbconvert_exporter": "python",
   "pygments_lexer": "ipython3",
   "version": "3.9.12"
  }
 },
 "nbformat": 4,
 "nbformat_minor": 5
}
