{
 "cells": [
  {
   "cell_type": "code",
   "execution_count": 1,
   "id": "6c5f8fa9",
   "metadata": {},
   "outputs": [],
   "source": [
    "# import wyscout public match event data loader from socceraction library\n",
    "from socceraction.data.statsbomb import StatsBombLoader \n",
    "\n",
    "# remove credentials warning from statsbomb api due to public data access \n",
    "import warnings\n",
    "warnings.filterwarnings(\"ignore\", message=\"credentials were not supplied. open data access only\")\n",
    "\n",
    "\n",
    "# load public wyscout data\n",
    "stbm_data = StatsBombLoader()"
   ]
  },
  {
   "cell_type": "code",
   "execution_count": 2,
   "id": "564e08ba",
   "metadata": {
    "scrolled": true
   },
   "outputs": [
    {
     "data": {
      "text/html": [
       "<div>\n",
       "<style scoped>\n",
       "    .dataframe tbody tr th:only-of-type {\n",
       "        vertical-align: middle;\n",
       "    }\n",
       "\n",
       "    .dataframe tbody tr th {\n",
       "        vertical-align: top;\n",
       "    }\n",
       "\n",
       "    .dataframe thead th {\n",
       "        text-align: right;\n",
       "    }\n",
       "</style>\n",
       "<table border=\"1\" class=\"dataframe\">\n",
       "  <thead>\n",
       "    <tr style=\"text-align: right;\">\n",
       "      <th></th>\n",
       "      <th>season_id</th>\n",
       "      <th>competition_id</th>\n",
       "      <th>competition_name</th>\n",
       "      <th>country_name</th>\n",
       "      <th>competition_gender</th>\n",
       "      <th>season_name</th>\n",
       "    </tr>\n",
       "  </thead>\n",
       "  <tbody>\n",
       "    <tr>\n",
       "      <th>15</th>\n",
       "      <td>90</td>\n",
       "      <td>37</td>\n",
       "      <td>FA Women's Super League</td>\n",
       "      <td>England</td>\n",
       "      <td>female</td>\n",
       "      <td>2020/2021</td>\n",
       "    </tr>\n",
       "    <tr>\n",
       "      <th>16</th>\n",
       "      <td>42</td>\n",
       "      <td>37</td>\n",
       "      <td>FA Women's Super League</td>\n",
       "      <td>England</td>\n",
       "      <td>female</td>\n",
       "      <td>2019/2020</td>\n",
       "    </tr>\n",
       "    <tr>\n",
       "      <th>17</th>\n",
       "      <td>4</td>\n",
       "      <td>37</td>\n",
       "      <td>FA Women's Super League</td>\n",
       "      <td>England</td>\n",
       "      <td>female</td>\n",
       "      <td>2018/2019</td>\n",
       "    </tr>\n",
       "    <tr>\n",
       "      <th>36</th>\n",
       "      <td>3</td>\n",
       "      <td>49</td>\n",
       "      <td>NWSL</td>\n",
       "      <td>United States of America</td>\n",
       "      <td>female</td>\n",
       "      <td>2018</td>\n",
       "    </tr>\n",
       "    <tr>\n",
       "      <th>39</th>\n",
       "      <td>106</td>\n",
       "      <td>53</td>\n",
       "      <td>UEFA Women's Euro</td>\n",
       "      <td>Europe</td>\n",
       "      <td>female</td>\n",
       "      <td>2022</td>\n",
       "    </tr>\n",
       "    <tr>\n",
       "      <th>40</th>\n",
       "      <td>30</td>\n",
       "      <td>72</td>\n",
       "      <td>Women's World Cup</td>\n",
       "      <td>International</td>\n",
       "      <td>female</td>\n",
       "      <td>2019</td>\n",
       "    </tr>\n",
       "  </tbody>\n",
       "</table>\n",
       "</div>"
      ],
      "text/plain": [
       "    season_id  competition_id         competition_name  \\\n",
       "15         90              37  FA Women's Super League   \n",
       "16         42              37  FA Women's Super League   \n",
       "17          4              37  FA Women's Super League   \n",
       "36          3              49                     NWSL   \n",
       "39        106              53        UEFA Women's Euro   \n",
       "40         30              72        Women's World Cup   \n",
       "\n",
       "                country_name competition_gender season_name  \n",
       "15                   England             female   2020/2021  \n",
       "16                   England             female   2019/2020  \n",
       "17                   England             female   2018/2019  \n",
       "36  United States of America             female        2018  \n",
       "39                    Europe             female        2022  \n",
       "40             International             female        2019  "
      ]
     },
     "execution_count": 2,
     "metadata": {},
     "output_type": "execute_result"
    }
   ],
   "source": [
    "competitions = stbm_data.competitions()\n",
    "female_comps = competitions.loc[competitions['competition_gender'] == 'female', :]\n",
    "female_comps"
   ]
  },
  {
   "cell_type": "code",
   "execution_count": 3,
   "id": "fa42fed8",
   "metadata": {},
   "outputs": [],
   "source": [
    "n_games = 0\n",
    "for i, j in female_comps.loc[:, ['season_id', 'competition_id']].iterrows():\n",
    "    # j[0] = season_id, j[1] = competition_id\n",
    "    \n",
    "    n_games = n_games + stbm_data.games(j[1], j[0]).shape[0]"
   ]
  }
 ],
 "metadata": {
  "kernelspec": {
   "display_name": "Python 3 (ipykernel)",
   "language": "python",
   "name": "python3"
  },
  "language_info": {
   "codemirror_mode": {
    "name": "ipython",
    "version": 3
   },
   "file_extension": ".py",
   "mimetype": "text/x-python",
   "name": "python",
   "nbconvert_exporter": "python",
   "pygments_lexer": "ipython3",
   "version": "3.9.12"
  }
 },
 "nbformat": 4,
 "nbformat_minor": 5
}
