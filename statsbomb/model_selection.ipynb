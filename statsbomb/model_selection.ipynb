{
 "cells": [
  {
   "cell_type": "markdown",
   "id": "3e929c31",
   "metadata": {},
   "source": [
    "### Packages"
   ]
  },
  {
   "cell_type": "code",
   "execution_count": 3,
   "id": "fdd28fc2",
   "metadata": {},
   "outputs": [],
   "source": [
    "import os\n",
    "import ast\n",
    "import pandas as pd\n",
    "import numpy as np"
   ]
  },
  {
   "cell_type": "markdown",
   "id": "14142fa8",
   "metadata": {},
   "source": [
    "### Data"
   ]
  },
  {
   "cell_type": "code",
   "execution_count": 100,
   "id": "33880ae0",
   "metadata": {},
   "outputs": [],
   "source": [
    "# read shots.csv file \n",
    "shots = pd.read_csv('.data/shots.csv')\n",
    "shots.loc[:, 'freeze_frame'] = shots.loc[:, 'freeze_frame'].apply(ast.literal_eval)\n",
    "shots.loc[:, 'gk_loc'] = shots.loc[:, 'gk_loc'].apply(ast.literal_eval)\n",
    "shots.loc[:, 'end_loc'] = shots.loc[:, 'end_loc'].apply(ast.literal_eval)\n",
    "\n",
    "# rename existing 'outcome' column to 'outcome_type' \n",
    "shots = shots.rename(columns = {'outcome': 'outcome_type'})\n",
    "# save binary results into a newly created 'outcome' column\n",
    "shots.loc[:, 'outcome'] = shots.loc[:, 'outcome_type'].apply(lambda x: 1 if x == 'Goal' else 0)"
   ]
  },
  {
   "cell_type": "markdown",
   "id": "fca78fd2",
   "metadata": {},
   "source": [
    "### Features"
   ]
  },
  {
   "cell_type": "code",
   "execution_count": 101,
   "id": "754c5f43",
   "metadata": {},
   "outputs": [],
   "source": [
    "#| code-fold: false\n",
    "# Distance Feature calculation\n",
    "\n",
    "# define goal center for 'statsbomb'\n",
    "goal_center = np.array([120, 40])\n",
    "\n",
    "# calculate distance between a shot coordinate and goal centerline coordinate\n",
    "shots['distance'] = np.sqrt((shots['x_start'] - goal_center[0])**2 + (shots['y_start'] - goal_center[1])**2)\n",
    "shots['distance'] = shots['distance'].round(decimals = 2)"
   ]
  },
  {
   "cell_type": "code",
   "execution_count": 102,
   "id": "c58a6e5c",
   "metadata": {},
   "outputs": [],
   "source": [
    "#| code-fold: false\n",
    "# Angle Feature calculation\n",
    "\n",
    "# transform (x, y) coordinates from percentiles to field length coordinates (105 meters x 68 meters)\n",
    "x = shots['x_start'] * 105/120\n",
    "y = shots['y_start'] * 68/80 \n",
    "\n",
    "# Use trigonometric formula to find an angle between two sides (a,b) of a triangle where the third side (c) \n",
    "# is a goal line of length 7.32 meters.\n",
    "a = np.sqrt((x - 105)**2 + (y - 30.34)**2) # length between right post and (x, y) shot coordinate\n",
    "b = np.sqrt((x - 105)**2 + (y - 37.66)**2) # length between left post and (x, y) shot coordinate\n",
    "c = 7.32 # goal line length in meters\n",
    "cos_alpha = (a**2 + b**2 - c**2)/(2*a*b)\n",
    "cos_alpha = np.round(cos_alpha, decimals = 4)\n",
    "\n",
    "# remember to leave angle in radians (if you want to transfer to degree multiply cos_alpha by 180/pi)\n",
    "shots['angle'] = np.arccos(cos_alpha)"
   ]
  },
  {
   "cell_type": "markdown",
   "id": "7c243f9d",
   "metadata": {},
   "source": [
    "### Outliers"
   ]
  },
  {
   "cell_type": "code",
   "execution_count": 95,
   "id": "89101282",
   "metadata": {},
   "outputs": [],
   "source": [
    "shots = shots.loc[~((shots['play_pattern_name'] == 'Other') | (shots['play_pattern_name'] == 'From Keeper' ) \n",
    "| (shots['play_pattern_name'] == 'From Kick Off') | (shots['body_part'] == 'Other')),  :]"
   ]
  },
  {
   "cell_type": "markdown",
   "id": "43190299",
   "metadata": {},
   "source": [
    "### Transforming and Splitting Data"
   ]
  },
  {
   "cell_type": "code",
   "execution_count": 103,
   "id": "5b571be5",
   "metadata": {},
   "outputs": [],
   "source": [
    "from sklearn.model_selection import train_test_split\n",
    "# Prepare features and labels from available data\n",
    "X = shots.loc[:, ['play_pattern_name','under_pressure', 'distance', 'angle', 'gk_loc_x', 'gk_loc_y',\n",
    "                   'follows_dribble', 'first_time', 'open_goal', 'technique', 'body_part']]\n",
    "y = shots.loc[:, 'outcome']\n",
    "\n",
    "# split data\n",
    "#X_train, X_test, y_train, y_test = train_test_split(X, y, test_size = 0.2, random_state = 42)"
   ]
  },
  {
   "cell_type": "code",
   "execution_count": 104,
   "id": "58c135e6",
   "metadata": {},
   "outputs": [],
   "source": [
    "from sklearn.compose import ColumnTransformer\n",
    "from sklearn.preprocessing import OneHotEncoder, StandardScaler\n",
    "\n",
    "# Build a column transformer\n",
    "column_trans = ColumnTransformer(\n",
    "    [('encode_bodyparts', OneHotEncoder(dtype='int'), ['play_pattern_name', 'technique', 'body_part']),\n",
    "    ('std_coords', StandardScaler(), ['distance', 'angle', 'gk_loc_x'])],\n",
    "    remainder = 'passthrough', verbose_feature_names_out = True)\n",
    "\n",
    "# Transform feature columns\n",
    "#X_train = column_trans.fit_transform(X_train)\n",
    "#X_test = column_trans.transform(X_test)\n",
    "X = column_trans.fit_transform(X)"
   ]
  },
  {
   "cell_type": "markdown",
   "id": "688befa6",
   "metadata": {},
   "source": [
    "### Base Model"
   ]
  },
  {
   "cell_type": "code",
   "execution_count": 66,
   "id": "1321da9b",
   "metadata": {},
   "outputs": [],
   "source": [
    "from sklearn.model_selection import train_test_split\n",
    "# Prepare features and labels from available data\n",
    "X = shots.loc[:, ['distance', 'angle']]\n",
    "y = shots.loc[:, 'outcome']\n",
    "\n",
    "# split data\n",
    "#X_train, X_test, y_train, y_test = train_test_split(X, y, test_size = 0.2, random_state = 42)"
   ]
  },
  {
   "cell_type": "code",
   "execution_count": 67,
   "id": "5189eee5",
   "metadata": {},
   "outputs": [],
   "source": [
    "from sklearn.compose import ColumnTransformer\n",
    "from sklearn.preprocessing import OneHotEncoder, StandardScaler\n",
    "\n",
    "# Build a column transformer\n",
    "column_trans = ColumnTransformer([('std_coords', StandardScaler(), ['distance', 'angle'])],\n",
    "    remainder = 'passthrough', verbose_feature_names_out = True)\n",
    "\n",
    "# Transform feature columns\n",
    "X = column_trans.fit_transform(X)\n",
    "#X_test = column_trans.transform(X_test)"
   ]
  },
  {
   "cell_type": "markdown",
   "id": "d8e0e2cd",
   "metadata": {},
   "source": [
    "### Model Testing"
   ]
  },
  {
   "cell_type": "code",
   "execution_count": 53,
   "id": "d1297e63",
   "metadata": {},
   "outputs": [
    {
     "name": "stderr",
     "output_type": "stream",
     "text": [
      "C:\\Users\\Public\\anaconda3\\lib\\site-packages\\xgboost\\sklearn.py:1224: UserWarning: The use of label encoder in XGBClassifier is deprecated and will be removed in a future release. To remove this warning, do the following: 1) Pass option use_label_encoder=False when constructing XGBClassifier object; and 2) Encode your labels (y) as integers starting with 0, i.e. 0, 1, 2, ..., [num_class - 1].\n",
      "  warnings.warn(label_encoder_deprecation_msg, UserWarning)\n"
     ]
    },
    {
     "name": "stdout",
     "output_type": "stream",
     "text": [
      "[20:57:19] WARNING: C:\\Windows\\Temp\\abs_557yfx631l\\croots\\recipe\\xgboost-split_1659548953302\\work\\src\\learner.cc:1115: Starting in XGBoost 1.3.0, the default evaluation metric used with the objective 'binary:logistic' was changed from 'error' to 'logloss'. Explicitly set eval_metric if you'd like to restore the old behavior.\n",
      "Brier score =  0.08049908253545875\n",
      "ROC-AUC =  0.7985446298517084\n",
      "Brier score =  0.0784908283739884\n",
      "ROC-AUC =  0.7823180065349857\n"
     ]
    }
   ],
   "source": [
    "from xgboost import XGBClassifier\n",
    "from sklearn.metrics import roc_auc_score, brier_score_loss\n",
    "\n",
    "classifier = XGBClassifier(gamma = 6, min_child_weight = 60, max_depth = 10)\n",
    "classifier.fit(X_train, y_train)\n",
    "\n",
    "\n",
    "# Evaluate on train data\n",
    "predictions = classifier.predict_proba(X_train)[:, 1]\n",
    "print('Brier score = ', brier_score_loss(y_train, predictions))\n",
    "print('ROC-AUC = ', roc_auc_score(y_train, predictions))\n",
    "\n",
    "\n",
    "# Evaluate on test data\n",
    "predictions = classifier.predict_proba(X_test)[:, 1]\n",
    "print('Brier score = ', brier_score_loss(y_test, predictions))\n",
    "print('ROC-AUC = ', roc_auc_score(y_test, predictions))"
   ]
  },
  {
   "cell_type": "code",
   "execution_count": 105,
   "id": "17460804",
   "metadata": {},
   "outputs": [],
   "source": [
    "from sklearn.linear_model import LogisticRegression\n",
    "\n",
    "# Model\n",
    "classifier = LogisticRegression( penalty = 'none', max_iter = 400, random_state = 42)\n",
    "\n",
    "# Hyperparameters\n",
    "#parameters = dict(C = uniform(loc = 0, scale = 4), \n",
    "#                  penalty = ['l2', 'l1'])\n",
    "\n",
    "# Classifier\n",
    "#classifier = RandomizedSearchCV(model, parameters, random_state = 42, \n",
    "#                                cv = 10, scoring = 'neg_brier_score')\n",
    "\n",
    "#classifier.fit(X_train, y_train)\n",
    "#print('Optimal parameters are:\\n', classifier.best_params_)\n",
    "\n",
    "# Evaluate on train data\n",
    "# predictions = classifier.predict_proba(X_train)[:, 1]\n",
    "# print('Brier score = ', brier_score_loss(y_train, predictions))\n",
    "# print('ROC-AUC = ', roc_auc_score(y_train, predictions))\n",
    "\n",
    "\n",
    "# # Evaluate on test data\n",
    "# predictions = classifier.predict_proba(X_test)[:, 1]\n",
    "# print('Brier score = ', brier_score_loss(y_test, predictions))\n",
    "# print('ROC-AUC = ', roc_auc_score(y_test, predictions))"
   ]
  },
  {
   "cell_type": "code",
   "execution_count": 106,
   "id": "9036a27c",
   "metadata": {},
   "outputs": [],
   "source": [
    "from sklearn.model_selection import cross_validate\n",
    "\n",
    "cv_results = cross_validate(classifier, X, y, cv = 10, scoring = 'roc_auc')"
   ]
  },
  {
   "cell_type": "code",
   "execution_count": 94,
   "id": "f587af53",
   "metadata": {
    "scrolled": true
   },
   "outputs": [
    {
     "data": {
      "text/plain": [
       "0.7885714437322404"
      ]
     },
     "execution_count": 94,
     "metadata": {},
     "output_type": "execute_result"
    }
   ],
   "source": [
    "cv_results['test_score'].mean()"
   ]
  },
  {
   "cell_type": "code",
   "execution_count": 107,
   "id": "eb3064b8",
   "metadata": {
    "scrolled": true
   },
   "outputs": [
    {
     "data": {
      "text/plain": [
       "0.786948576771249"
      ]
     },
     "execution_count": 107,
     "metadata": {},
     "output_type": "execute_result"
    }
   ],
   "source": [
    "cv_results['test_score'].mean()"
   ]
  }
 ],
 "metadata": {
  "kernelspec": {
   "display_name": "Python 3 (ipykernel)",
   "language": "python",
   "name": "python3"
  },
  "language_info": {
   "codemirror_mode": {
    "name": "ipython",
    "version": 3
   },
   "file_extension": ".py",
   "mimetype": "text/x-python",
   "name": "python",
   "nbconvert_exporter": "python",
   "pygments_lexer": "ipython3",
   "version": "3.9.12"
  }
 },
 "nbformat": 4,
 "nbformat_minor": 5
}
